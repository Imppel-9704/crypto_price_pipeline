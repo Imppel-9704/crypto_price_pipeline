{
 "cells": [
  {
   "cell_type": "code",
   "execution_count": null,
   "metadata": {},
   "outputs": [],
   "source": [
    "import requests\n",
    "import os\n",
    "from dotenv import load_dotenv\n",
    "\n",
    "def request_data(coin_name):\n",
    "    headers = { 'x-cg-demo-api-key': os.getenv(\"MY_API_KEY\")}\n",
    "    list_data = []\n",
    "    for name in coin_name:\n",
    "        url = \"https://api.coingecko.com/api/v3/simple/price\"\n",
    "        params = {  \n",
    "            \"ids\": name,\n",
    "            \"vs_currencies\": \"USD\",\n",
    "            \"include_market_cap\":'true', \n",
    "            \"include_24hr_vol\":'true', \n",
    "            \"include_24hr_change\":'true', \n",
    "            \"include_last_updated_at\":'true'\n",
    "        }\n",
    "\n",
    "        response = requests.get(url, params= params, headers=headers)\n",
    "        if response.status_code == 200:\n",
    "            data = response.json()\n",
    "            list_data.append(data)\n",
    "    return list_data\n",
    "\n",
    "if __name__ == \"__main__\":\n",
    "    list_of_crypto = ['ethereum', 'bitcoin', 'solana', 'notcoin']\n",
    "\n",
    "    try:\n",
    "        data = request_data(list_of_crypto)\n",
    "        for d in data:\n",
    "            print(d)\n",
    "    except Exception as e:\n",
    "        print(f\"Error: {e}\")"
   ]
  }
 ],
 "metadata": {
  "kernelspec": {
   "display_name": "Python 3",
   "language": "python",
   "name": "python3"
  },
  "language_info": {
   "codemirror_mode": {
    "name": "ipython",
    "version": 3
   },
   "file_extension": ".py",
   "mimetype": "text/x-python",
   "name": "python",
   "nbconvert_exporter": "python",
   "pygments_lexer": "ipython3",
   "version": "3.10.13"
  }
 },
 "nbformat": 4,
 "nbformat_minor": 2
}
